{
  "nbformat": 4,
  "nbformat_minor": 0,
  "metadata": {
    "colab": {
      "provenance": []
    },
    "kernelspec": {
      "name": "python3",
      "display_name": "Python 3"
    },
    "language_info": {
      "name": "python"
    }
  },
  "cells": [
    {
      "cell_type": "code",
      "execution_count": 7,
      "metadata": {
        "id": "gAf5HGJDjNEH"
      },
      "outputs": [],
      "source": [
        "import numpy as np\n",
        "import tensorflow as tf\n",
        "from sklearn import model_selection"
      ]
    },
    {
      "cell_type": "code",
      "source": [
        "x=np.arange(10)\n",
        "y=np.arange(10,20)\n",
        "print(x,y)"
      ],
      "metadata": {
        "id": "41RFgrzojgPr"
      },
      "execution_count": null,
      "outputs": []
    },
    {
      "cell_type": "code",
      "source": [
        "x_train, x_test, y_train, y_test = model_selection.train_test_split(x, \n",
        "                y, test_size = 0.1, random_state=42) \n",
        "\n",
        "x_train.shape, x_test.shape, y_train.shape, y_test.shape"
      ],
      "metadata": {
        "id": "l15KIFegj8t6"
      },
      "execution_count": null,
      "outputs": []
    },
    {
      "cell_type": "code",
      "source": [
        "x_train"
      ],
      "metadata": {
        "id": "jP80gLzgkoHT"
      },
      "execution_count": null,
      "outputs": []
    },
    {
      "cell_type": "code",
      "source": [
        "data=tf.data.Dataset.from_tensor_slices((x,y))\n",
        "for i in data:\n",
        "  print(i)"
      ],
      "metadata": {
        "id": "lipY2dlPkzZA"
      },
      "execution_count": null,
      "outputs": []
    },
    {
      "cell_type": "code",
      "source": [
        "data = data.shuffle(4)\n",
        "data = data.batch(4, drop_remainder=True)\n",
        "data = data.prefetch(tf.data.experimental.AUTOTUNE)\n",
        "for i in data:\n",
        "  print(i)"
      ],
      "metadata": {
        "id": "xrXw1ZdjmdT7"
      },
      "execution_count": 22,
      "outputs": []
    }
  ]
}