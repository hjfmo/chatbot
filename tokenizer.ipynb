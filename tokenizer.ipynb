{
  "nbformat": 4,
  "nbformat_minor": 0,
  "metadata": {
    "colab": {
      "provenance": []
    },
    "kernelspec": {
      "name": "python3",
      "display_name": "Python 3"
    },
    "language_info": {
      "name": "python"
    }
  },
  "cells": [
    {
      "cell_type": "code",
      "execution_count": 10,
      "metadata": {
        "id": "4AkCDjc_j_N3"
      },
      "outputs": [],
      "source": [
        "from tensorflow.keras.preprocessing.text import Tokenizer\n",
        "from tensorflow.keras.preprocessing.sequence import pad_sequences"
      ]
    },
    {
      "cell_type": "code",
      "source": [
        "sen=[\"I like python\",\"i like php\",\"I'm front end developer\",\"I'm full stack developer and data analysiser\"]\n",
        "tokenizer=Tokenizer(filters='!\"#$%&()*+,-./:;=?@[\\\\]^_`{|}~\\t\\n', oov_token='<OOV>')\n",
        "tokenizer.fit_on_texts(sen)\n",
        "word_index=tokenizer.word_index\n",
        "word_index"
      ],
      "metadata": {
        "id": "ffwOgxg_kKKm"
      },
      "execution_count": null,
      "outputs": []
    },
    {
      "cell_type": "code",
      "source": [
        "sequences=tokenizer.texts_to_sequences(sen)\n",
        "sequences"
      ],
      "metadata": {
        "colab": {
          "base_uri": "https://localhost:8080/"
        },
        "id": "ReUhjvRZnBR7",
        "outputId": "77bd6b4a-757d-4190-fc33-026a60f34d35"
      },
      "execution_count": 12,
      "outputs": [
        {
          "output_type": "execute_result",
          "data": {
            "text/plain": [
              "[[2, 3, 6], [2, 3, 7], [4, 8, 9, 5], [4, 10, 11, 5, 12, 13, 14]]"
            ]
          },
          "metadata": {},
          "execution_count": 12
        }
      ]
    },
    {
      "cell_type": "code",
      "source": [
        "padding=pad_sequences(sequences, padding='post')\n",
        "print(padding)"
      ],
      "metadata": {
        "id": "Nt0nQGU1nTx7"
      },
      "execution_count": null,
      "outputs": []
    }
  ]
}